{
 "cells": [
  {
   "cell_type": "code",
   "execution_count": 76,
   "metadata": {},
   "outputs": [],
   "source": [
    "import numpy as np\n",
    "import jax\n",
    "import jax.numpy as jnp\n",
    "from flax import linen as nn\n",
    "import optax\n",
    "from IPython.display import Image, display\n",
    "from ipywidgets import HBox, Image as WidgetImage, Layout\n",
    "import pandas as pd"
   ]
  },
  {
   "cell_type": "markdown",
   "metadata": {},
   "source": [
    "#### IT3105 – Artificial Intelligence Programming; Introductory Project\n",
    "# General Purpose JAX-based PID Controllers\n",
    "##### Sindre Grodås Standal Aas og Elias Lerheim Birkeland"
   ]
  },
  {
   "cell_type": "markdown",
   "metadata": {},
   "source": [
    "________"
   ]
  },
  {
   "cell_type": "markdown",
   "metadata": {},
   "source": [
    "## Controller Class\n",
    "The Controller class should take the error –– from running one time step –– as input, and then output a controll signal.\n",
    "The error consists of the current difference between target state and actual state, the sum of all previous errors of the time steps in one epoch, and the change in error from last time step."
   ]
  },
  {
   "cell_type": "code",
   "execution_count": 77,
   "metadata": {},
   "outputs": [
    {
     "data": {
      "application/vnd.jupyter.widget-view+json": {
       "model_id": "edef4b48fa714fca8ad82dad8b1a22fd",
       "version_major": 2,
       "version_minor": 0
      },
      "text/plain": [
       "HBox(children=(Image(value=b'\\xff\\xd8\\xff\\xe0\\x00\\x10JFIF\\x00\\x01\\x01\\x00\\x00\\x90\\x00\\x90\\x00\\x00\\xff\\xe1\\x00\\…"
      ]
     },
     "metadata": {},
     "output_type": "display_data"
    }
   ],
   "source": [
    "def display_images(filenames):\n",
    "    widgets = []\n",
    "    # Load images as widgets\n",
    "   \n",
    "    for images in filenames:\n",
    "        image = WidgetImage(value=open(images, 'rb').read(), format='jpeg', width=700)\n",
    "        widgets.append(image)\n",
    "\n",
    "    # Display images side by side using HBox\n",
    "    display(HBox(widgets))\n",
    "display_images(['standard_PID.jpeg', 'nn_PID.jpeg'])"
   ]
  },
  {
   "cell_type": "code",
   "execution_count": 78,
   "metadata": {},
   "outputs": [],
   "source": [
    "class Controller:\n",
    "    def __init__(self):\n",
    "        pass\n",
    "\n",
    "    def controll_signal(self, current_E, sum_E, dE):\n",
    "        pass\n",
    "\n",
    "    def update(self):\n",
    "        pass"
   ]
  },
  {
   "cell_type": "code",
   "execution_count": 79,
   "metadata": {},
   "outputs": [],
   "source": [
    "class StandardController(Controller):\n",
    "    def __init__(self, k_p=0.1, k_i=0.3, k_d=0.1):\n",
    "        self.k_p = k_p\n",
    "        self.k_i = k_i\n",
    "        self.k_d = k_d\n",
    "        super().__init__()\n",
    "\n",
    "    def output_U(self, E, sum_E, dE):\n",
    "        return self.k_p * E + self.k_d * dE + self.k_i * sum_E"
   ]
  },
  {
   "cell_type": "code",
   "execution_count": null,
   "metadata": {},
   "outputs": [],
   "source": []
  },
  {
   "cell_type": "markdown",
   "metadata": {},
   "source": [
    "## Plant Class\n",
    "In each time step, a plant should take the controll signal from a controller as input –– either neural network based or standard controller –– and then return its updated state, which is some distance from the target state."
   ]
  },
  {
   "cell_type": "code",
   "execution_count": 80,
   "metadata": {},
   "outputs": [],
   "source": [
    "class Plant:\n",
    "    def __init__(self):\n",
    "        pass\n",
    "\n",
    "    def output_Y(self, controll_signal):\n",
    "        pass"
   ]
  },
  {
   "cell_type": "code",
   "execution_count": 81,
   "metadata": {},
   "outputs": [],
   "source": [
    "class BathtubPlant:\n",
    "    def __init__(self, area_A=100.0, initial_height_H=10.0, g=9.81):\n",
    "        self.g = g\n",
    "        self.initial_height_H = initial_height_H\n",
    "        self.area_A = area_A\n",
    "        self.height_H = initial_height_H\n",
    "        self.cross_section_C = self.area_A / 100\n",
    "        self.velocity_V = np.sqrt(2 * self.g * self.height_H)\n",
    "        self.flow_rate_Q = self.velocity_V * self.cross_section_C\n",
    "        super().__init__()\n",
    "\n",
    "    def change_in_volume(self, output_U, noise_D):\n",
    "        return output_U + noise_D - self.flow_rate_Q\n",
    "\n",
    "    def output_Y(self, output_U, noise_D):\n",
    "        self.height_H += self.change_in_volume(output_U, noise_D) / self.area_A\n",
    "        return self.height_H\n",
    "\n",
    "    def resetPlant(self):\n",
    "        self.height_H = self.initial_height_H\n",
    "        self.velocity_V = np.sqrt(2 * self.g * self.height_H)\n",
    "        return"
   ]
  },
  {
   "cell_type": "code",
   "execution_count": 82,
   "metadata": {},
   "outputs": [],
   "source": [
    "class CournotPlant:\n",
    "\n",
    "    def __init__(self, pmax, marginal_cost, initial_q1=0.1, initial_q2=0.1, goal_profit = 0.5):\n",
    "        self.pmax = pmax\n",
    "        self.goal_profit = goal_profit\n",
    "        self.profit = 0.0\n",
    "        self.marginal_cost = marginal_cost\n",
    "        self.initial_q1 = initial_q1\n",
    "        self.initial_q2 = initial_q2\n",
    "        self.q1 = initial_q1\n",
    "        self.initial_q2 = initial_q2\n",
    "        super().__init__()\n",
    "\n",
    "    def Q(self,q1,q2):\n",
    "        return q1 + q2\n",
    "    \n",
    "    def P(self, q1, q2):\n",
    "        return self.pmax - self.Q(q1,q2)\n",
    "    \n",
    "    def update_q(self, output_U, noise_D):\n",
    "        self.q1 += output_U\n",
    "        self.q2 += noise_D\n",
    "        self.profit = self.q1 * (self.P(self.q1,self.q2)-self.marginal_cost) \n",
    "        return\n",
    "    \n",
    "    def output_Y(self):\n",
    "        self.profit = self.q1 * (self.P(self.q1,self.q2)-self.marginal_cost)\n",
    "        return self.profit\n",
    "    \n",
    "    def resetPlant(self):\n",
    "        self.q1 = self.initial_q1\n",
    "        self.q2 = self.initial_q2\n",
    "        return\n",
    "\n",
    "    \n",
    "\n",
    "\n",
    "    "
   ]
  },
  {
   "cell_type": "markdown",
   "metadata": {},
   "source": [
    "## System Configuration"
   ]
  },
  {
   "cell_type": "markdown",
   "metadata": {},
   "source": [
    "### Pivotal Parameters"
   ]
  },
  {
   "cell_type": "code",
   "execution_count": 83,
   "metadata": {},
   "outputs": [
    {
     "data": {
      "application/vnd.jupyter.widget-view+json": {
       "model_id": "e67d296fc55947d7a72b37f96e40a091",
       "version_major": 2,
       "version_minor": 0
      },
      "text/plain": [
       "HBox(children=(Image(value=b'\\xff\\xd8\\xff\\xe0\\x00\\x10JFIF\\x00\\x01\\x01\\x00\\x00\\x90\\x00\\x90\\x00\\x00\\xff\\xe1\\x00\\…"
      ]
     },
     "metadata": {},
     "output_type": "display_data"
    }
   ],
   "source": [
    "display_images(['pivotal_params.jpeg'])"
   ]
  },
  {
   "cell_type": "code",
   "execution_count": 84,
   "metadata": {},
   "outputs": [],
   "source": [
    "PLANT = 'cournot' # {'bathtub', 'cournot', 'rabbit'}\n",
    "NN_BASED = False # {True -> neural network based controller, False -> standard controller}\n",
    "NUM_LAYERS = 1 # Number of layers in the neural network –– between 0 and 5 hidden layers\n",
    "NUM_NEURONS = [] # Number of neurons in each layer\n",
    "ACTIVATION_FUNC = None\n",
    "WEIGHTS_BIAS_RANGE = None\n",
    "NUM_EPOCHS = 100\n",
    "NUM_TIMESTEPS = 100\n",
    "LEARNING_RATE = 0.001\n",
    "DISTURBANCE_RANGE = [-0.01,0.01]\n",
    "A = 100.0 # C follows from A\n",
    "H0 = 10.0\n",
    "PMAX = 1.0\n",
    "MC = 0.1\n",
    "\n",
    "INITIAL_Q1 = 0.1\n",
    "INITIAL_Q2 = 0.1\n",
    "GOAL_PROFIT= 0.5"
   ]
  },
  {
   "cell_type": "code",
   "execution_count": 85,
   "metadata": {},
   "outputs": [],
   "source": [
    "class Consys:\n",
    "    def __init__(self, num_epochs=NUM_EPOCHS, num_timesteps=NUM_TIMESTEPS, learning_rate=LEARNING_RATE, \n",
    "                 noise_min=DISTURBANCE_RANGE[0], noise_max=DISTURBANCE_RANGE[1], controller_type_is_nn=NN_BASED):\n",
    "        \n",
    "        self.controller_type_is_nn = controller_type_is_nn\n",
    "\n",
    "        if controller_type_is_nn:\n",
    "            self.controller = NeuralController()\n",
    "            self.params = self.controller.init(jax.random.PRNGKey(0), jnp.zeros((1, 3)))['params']\n",
    "            self.optimizer = optax.adam(learning_rate)\n",
    "            self.opt_state = self.optimizer.init(self.params)\n",
    "\n",
    "        else:\n",
    "            self.controller = StandardController()\n",
    "\n",
    "        if PLANT == 'cournot':\n",
    "            self.plant = CournotPlant(pmax=PMAX, marginal_cost=MC, initial_q1=INITIAL_Q1, initial_q2=INITIAL_Q2, goal_profit=GOAL_PROFIT,)\n",
    "        \n",
    "        elif PLANT == 'rabbits':\n",
    "            self.plant = RabbitsPlant()\n",
    "\n",
    "        else:\n",
    "            self.plant = BathtubPlant(area_A=A, initial_height_H=H0)\n",
    "\n",
    "        self.num_epochs = num_epochs\n",
    "        self.num_timesteps = num_timesteps\n",
    "        self.learning_rate = learning_rate\n",
    "        self.noise_min = noise_min\n",
    "        self.noise_max = noise_max\n",
    "        self.error_history = []\n",
    "\n",
    "    def run_epoch(self, params=None, pid_weights=None):\n",
    "        if not self.controller_type_is_nn:\n",
    "            self.controller.k_p, self.controller.k_i, self.controller.k_d = pid_weights\n",
    "\n",
    "        self.plant.resetPlant()\n",
    "        integral_sum = 0.0\n",
    "        prev_error = None\n",
    "        error_history = []\n",
    "\n",
    "        for i in range(self.num_timesteps):\n",
    "\n",
    "            if PLANT == 'bathtub':\n",
    "                current_error = self.plant.initial_height_H - self.plant.height_H\n",
    "                error_history.append(current_error)\n",
    "                integral_sum += current_error\n",
    "                derivative = 0.0 if prev_error is None else current_error - prev_error\n",
    "                inputs = jnp.array([current_error, integral_sum, derivative]).reshape(1, -1)\n",
    "\n",
    "                if self.controller_type_is_nn:\n",
    "                    U = self.controller.apply({'params': params}, inputs).squeeze()\n",
    "                else:\n",
    "                    U = self.controller.output_U(current_error, integral_sum, derivative)\n",
    "                \n",
    "                noise = np.random.uniform(self.noise_min, self.noise_max)\n",
    "                self.plant.output_Y(U, noise)\n",
    "                prev_error = current_error\n",
    "\n",
    "            else:\n",
    "                current_error = self.plant.profit - self.plant.goal_profit\n",
    "                error_history.append(current_error)\n",
    "                integral_sum += current_error\n",
    "                derivative = 0.0 if prev_error is None else current_error - prev_error\n",
    "                inputs = jnp.array([current_error, integral_sum, derivative]).reshape(1, -1)\n",
    "\n",
    "                if self.controller_type_is_nn:\n",
    "                    U = self.controller.apply({'params': params}, inputs).squeeze()\n",
    "                else:\n",
    "                    U = self.controller.output_U(current_error, integral_sum, derivative)\n",
    "\n",
    "                noise = np.random.uniform(self.noise_min, self.noise_max)\n",
    "                #self.plant.update_q(U, noise)\n",
    "                prev_error = current_error\n",
    "\n",
    "        mse = jnp.mean(jnp.array(error_history) ** 2)  # Use jnp instead of np\n",
    "        return mse\n",
    "\n",
    "\n",
    "    def simulate_epochs(self):\n",
    "        mse_history = []\n",
    "        pid_history = []\n",
    "\n",
    "        if self.controller_type_is_nn:\n",
    "            for epoch in range(self.num_epochs):\n",
    "                loss = self.run_epoch(params=self.params)\n",
    "                mse_history.append(loss)\n",
    "\n",
    "                grads = jax.grad(self.run_epoch, argnums=0)(self.params)\n",
    "                updates, self.opt_state = self.optimizer.update(grads, self.opt_state)\n",
    "                self.params = optax.apply_updates(self.params, updates)\n",
    "            return mse_history\n",
    "        \n",
    "        else:\n",
    "            pid_params = jnp.array([self.controller.k_p, self.controller.k_i, self.controller.k_d])\n",
    "\n",
    "            for epoch in range(self.num_epochs):\n",
    "                # Define a function that computes MSE given PID parameters\n",
    "                def compute_mse(params):\n",
    "                    kp, ki, kd = params  # Unpack the JAX array to individual PID parameters\n",
    "                    # Call run_epoch with unpacked PID parameters wrapped in a tuple\n",
    "                    return self.run_epoch(pid_weights=(kp, ki, kd))\n",
    "\n",
    "                # Compute loss and gradients\n",
    "                mse, grads = jax.value_and_grad(compute_mse)(pid_params)\n",
    "                mse_history.append(mse.item())  # Convert JAX array to scalar and append to mse_history\n",
    "\n",
    "                # Apply gradients to PID parameters\n",
    "                pid_params -= self.learning_rate * grads\n",
    "\n",
    "                # Update the controller's PID parameters with new values\n",
    "                self.controller.k_p, self.controller.k_i, self.controller.k_d = pid_params\n",
    "\n",
    "                # Convert updated PID parameters to list for history tracking\n",
    "                pid_history.append(pid_params.tolist())\n",
    "\n",
    "            return mse_history, pid_history"
   ]
  },
  {
   "cell_type": "markdown",
   "metadata": {},
   "source": [
    "______"
   ]
  },
  {
   "cell_type": "markdown",
   "metadata": {},
   "source": [
    "## Bathtub System with Standard PID Controller"
   ]
  },
  {
   "cell_type": "code",
   "execution_count": 86,
   "metadata": {},
   "outputs": [],
   "source": [
    "system = Consys()"
   ]
  },
  {
   "cell_type": "code",
   "execution_count": 87,
   "metadata": {},
   "outputs": [
    {
     "data": {
      "image/png": "[encoded data removed]",
      "text/plain": [
       "<Figure size 1080x360 with 1 Axes>"
      ]
     },
     "metadata": {
      "needs_background": "light"
     },
     "output_type": "display_data"
    },
    {
     "data": {
      "image/png": "[encoded data removed]",
      "text/plain": [
       "<Figure size 1080x360 with 1 Axes>"
      ]
     },
     "metadata": {
      "needs_background": "light"
     },
     "output_type": "display_data"
    }
   ],
   "source": [
    "if system.controller_type_is_nn:\n",
    "    mse_history = system.simulate_epochs()\n",
    "    mse_df = pd.DataFrame([mse.item() for mse in mse_history])\n",
    "\n",
    "    mse_df.plot(figsize=(15,5))\n",
    "else:\n",
    "    mse_history, pid_history = system.simulate_epochs()\n",
    "\n",
    "    mse_df = pd.DataFrame({'MSE': mse_history})\n",
    "    pid_df = pd.DataFrame([list(map(float, pid)) for pid in pid_history], columns=['kp', 'ki', 'kd'])\n",
    "    \n",
    "    mse_df.plot(figsize=(15,5))\n",
    "    pid_df.plot(y=['kp','ki','kd'], figsize=(15,5))\n"
   ]
  }
 ],
 "metadata": {
  "kernelspec": {
   "display_name": "Python 3",
   "language": "python",
   "name": "python3"
  },
  "language_info": {
   "codemirror_mode": {
    "name": "ipython",
    "version": 3
   },
   "file_extension": ".py",
   "mimetype": "text/x-python",
   "name": "python",
   "nbconvert_exporter": "python",
   "pygments_lexer": "ipython3",
   "version": "3.10.6"
  }
 },
 "nbformat": 4,
 "nbformat_minor": 2
}
