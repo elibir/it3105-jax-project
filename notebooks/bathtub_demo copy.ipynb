{
 "cells": [
  {
   "cell_type": "code",
   "execution_count": 1,
   "metadata": {},
   "outputs": [],
   "source": [
    "import sys\n",
    "sys.path.append(\"../src/\")\n",
    "\n",
    "import jax.numpy as jnp\n",
    "from jax import random\n",
    "from neural_pid_controller import NeuralPidController\n",
    "from bathtub import Bathtub\n",
    "from consys import ConSys\n",
    "from plot_utils import plot_nn"
   ]
  },
  {
   "cell_type": "markdown",
   "metadata": {},
   "source": [
    "## Bathtub"
   ]
  },
  {
   "cell_type": "markdown",
   "metadata": {},
   "source": [
    "### Classic PID controller"
   ]
  },
  {
   "cell_type": "code",
   "execution_count": 2,
   "metadata": {},
   "outputs": [
    {
     "ename": "IncorrectPostInitOverrideError",
     "evalue": "Overrode `.__post_init__()` without calling `super().__post_init__()` (https://flax.readthedocs.io/en/latest/api_reference/flax.errors.html#flax.errors.IncorrectPostInitOverrideError)",
     "output_type": "error",
     "traceback": [
      "\u001b[1;31m---------------------------------------------------------------------------\u001b[0m",
      "\u001b[1;31mIncorrectPostInitOverrideError\u001b[0m            Traceback (most recent call last)",
      "Cell \u001b[1;32mIn[2], line 19\u001b[0m\n\u001b[0;32m     17\u001b[0m random_key \u001b[38;5;241m=\u001b[39m random\u001b[38;5;241m.\u001b[39mPRNGKey(\u001b[38;5;241m42\u001b[39m)\n\u001b[0;32m     18\u001b[0m controller \u001b[38;5;241m=\u001b[39m NeuralPidController(num_hidden_layers, hidden_layer_sizes, activation_funcs, min_weight_value, max_weight_value, min_bias_value, max_bias_value, random_key)\n\u001b[1;32m---> 19\u001b[0m controller_params \u001b[38;5;241m=\u001b[39m \u001b[43mcontroller\u001b[49m\u001b[38;5;241;43m.\u001b[39;49m\u001b[43minit\u001b[49m\u001b[43m(\u001b[49m\u001b[43mrandom_key\u001b[49m\u001b[43m,\u001b[49m\u001b[43m \u001b[49m\u001b[43mjnp\u001b[49m\u001b[38;5;241;43m.\u001b[39;49m\u001b[43mones\u001b[49m\u001b[43m(\u001b[49m\u001b[43m(\u001b[49m\u001b[38;5;241;43m3\u001b[39;49m\u001b[43m,\u001b[49m\u001b[43m)\u001b[49m\u001b[43m)\u001b[49m\u001b[43m)\u001b[49m[\u001b[38;5;124m'\u001b[39m\u001b[38;5;124mparams\u001b[39m\u001b[38;5;124m'\u001b[39m]\n\u001b[0;32m     21\u001b[0m \u001b[38;5;66;03m### ConSys params:\u001b[39;00m\n\u001b[0;32m     22\u001b[0m no_epochs \u001b[38;5;241m=\u001b[39m \u001b[38;5;241m100\u001b[39m\n",
      "    \u001b[1;31m[... skipping hidden 2 frame]\u001b[0m\n",
      "File \u001b[1;32mc:\\Users\\elias\\it3105-jax-project\\venv\\lib\\site-packages\\flax\\linen\\module.py:1799\u001b[0m, in \u001b[0;36mModule._module_checks\u001b[1;34m(self)\u001b[0m\n\u001b[0;32m   1797\u001b[0m overridden_post_init \u001b[38;5;241m=\u001b[39m \u001b[38;5;28mself\u001b[39m\u001b[38;5;241m.\u001b[39m__post_init__ \u001b[38;5;241m!=\u001b[39m Module\u001b[38;5;241m.\u001b[39m__post_init__\n\u001b[0;32m   1798\u001b[0m \u001b[38;5;28;01mif\u001b[39;00m overridden_post_init \u001b[38;5;129;01mand\u001b[39;00m \u001b[38;5;129;01mnot\u001b[39;00m \u001b[38;5;28mhasattr\u001b[39m(\u001b[38;5;28mself\u001b[39m, \u001b[38;5;124m'\u001b[39m\u001b[38;5;124m_id\u001b[39m\u001b[38;5;124m'\u001b[39m):\n\u001b[1;32m-> 1799\u001b[0m   \u001b[38;5;28;01mraise\u001b[39;00m errors\u001b[38;5;241m.\u001b[39mIncorrectPostInitOverrideError()\n",
      "\u001b[1;31mIncorrectPostInitOverrideError\u001b[0m: Overrode `.__post_init__()` without calling `super().__post_init__()` (https://flax.readthedocs.io/en/latest/api_reference/flax.errors.html#flax.errors.IncorrectPostInitOverrideError)"
     ]
    }
   ],
   "source": [
    "### Bathtub params:\n",
    "A = 10.0      # cross-sectional area\n",
    "C = A/100   # cross-sectional-drain area\n",
    "H = 10.0      # initial height\n",
    "g = 9.8     # gravitational constant\n",
    "plant = Bathtub(A, C, H, g)\n",
    "\n",
    "\n",
    "### Controller params:\n",
    "num_hidden_layers = 1\n",
    "hidden_layer_sizes = [64]\n",
    "activation_funcs = [\"relu\"]\n",
    "min_weight_value = -1\n",
    "max_weight_value = 1\n",
    "min_bias_value = -1\n",
    "max_bias_value = 1\n",
    "random_key = random.PRNGKey(42)\n",
    "controller = NeuralPidController(num_hidden_layers, hidden_layer_sizes, activation_funcs, min_weight_value, max_weight_value, min_bias_value, max_bias_value, random_key)\n",
    "controller_params = controller.init(random_key, jnp.ones((3,)))['params']\n",
    "\n",
    "### ConSys params:\n",
    "no_epochs = 100\n",
    "timesteps_per_epoch = 10\n",
    "learning_rate = 0.2\n",
    "min_noise_value = -0.01\n",
    "max_noise_value = 0.01\n",
    "\n",
    "\n",
    "consys = ConSys(controller, plant, no_epochs, timesteps_per_epoch, learning_rate, min_noise_value, max_noise_value)\n",
    "mse_list, params_matrix = consys.simulate(controller_params)\n",
    "\n",
    "plot_nn(mse_list)\n"
   ]
  },
  {
   "cell_type": "code",
   "execution_count": null,
   "metadata": {},
   "outputs": [],
   "source": [
    "# print(plant.height_history)"
   ]
  }
 ],
 "metadata": {
  "kernelspec": {
   "display_name": "venv",
   "language": "python",
   "name": "python3"
  },
  "language_info": {
   "codemirror_mode": {
    "name": "ipython",
    "version": 3
   },
   "file_extension": ".py",
   "mimetype": "text/x-python",
   "name": "python",
   "nbconvert_exporter": "python",
   "pygments_lexer": "ipython3",
   "version": "3.10.1"
  }
 },
 "nbformat": 4,
 "nbformat_minor": 2
}
