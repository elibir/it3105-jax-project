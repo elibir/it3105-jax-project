{
 "cells": [
  {
   "cell_type": "code",
   "execution_count": null,
   "metadata": {},
   "outputs": [],
   "source": [
    "import sys\n",
    "sys.path.append(\"../src/\")\n",
    "\n",
    "from classic_pid_controller import ClassicPidController\n",
    "from rabbits import Rabbits\n",
    "from consys import ConSys\n",
    "from plot_utils import plot_classic_pid"
   ]
  },
  {
   "cell_type": "code",
   "execution_count": null,
   "metadata": {},
   "outputs": [],
   "source": [
    "\"\"\" Rabbits and foxes; We will model a population of rabbits and one of foxes, where the foxes prey\n",
    "on the rabbits. Rabbits are born at rate a1 and die naturally at rate a2, and die due to interaction\n",
    "with foxes at rate a3. In addition, due to external effects on the rabbits' birth rate, there is a time\n",
    "varying, additive component + a4 sin(a5 · t). Rabbits killed by wildlife population control is \n",
    "represented by U (the control signal).\n",
    "\n",
    "Foxes die naturally at rate b1 and are born from interaction with rabbits at rate b2. \n",
    "There is also some noise in the birthrate of foxes, represented by the term D (disturbance).\n",
    "\n",
    "\n",
    "Task: keep rabbit population stable at initial population.\n",
    "We assume that wildlife population management always make sure that neither the rabbit population nor the fox population\n",
    "ever gets lower than 1 individual.\n",
    "\"\"\""
   ]
  },
  {
   "cell_type": "markdown",
   "metadata": {},
   "source": [
    "## Bathtub"
   ]
  },
  {
   "cell_type": "markdown",
   "metadata": {},
   "source": [
    "### Classic PID controller"
   ]
  },
  {
   "cell_type": "code",
   "execution_count": null,
   "metadata": {},
   "outputs": [],
   "source": [
    "### Rabbit population params:\n",
    "a1 = 0.35     # rabbit birth rate\n",
    "a2 = 0.01     # rabbit natural death rate\n",
    "a3 = 0.05     # rabbit killed by fox rate\n",
    "a4 = 0.3      # rabbit external birthrate factors param 1\n",
    "a5 = 0.4      # rabbit external birthrate factors param 2\n",
    "b1 = 0.3      # fox natural death rate\n",
    "b2 = 0.015    # fox birthrate\n",
    "rabbit_start_population = 26\n",
    "fox_start_population = 3\n",
    "\n",
    "### ConSys params:\n",
    "no_epochs = 50\n",
    "timesteps_per_epoch = 50\n",
    "learning_rate = 0.0001\n",
    "min_noise_value = -0.1\n",
    "max_noise_value = 0.1\n",
    "\n",
    "### Controller params:\n",
    "controller_params = [0.1, 0.1, 0.1]     # kp, ki, kd\n",
    "\n",
    "controller = ClassicPidController()\n",
    "plant = Rabbits(a1, a2, a3, a4, a5, b1, b2, rabbit_start_population, fox_start_population)\n",
    "consys = ConSys(controller, plant, no_epochs, timesteps_per_epoch, learning_rate, min_noise_value, max_noise_value)\n",
    "mse_list, params_matrix = consys.simulate(controller_params, verbose=True)\n",
    "\n",
    "plot_classic_pid(mse_list, params_matrix)\n"
   ]
  },
  {
   "cell_type": "code",
   "execution_count": null,
   "metadata": {},
   "outputs": [],
   "source": [
    "print(plant.history)"
   ]
  }
 ],
 "metadata": {
  "kernelspec": {
   "display_name": "venv",
   "language": "python",
   "name": "python3"
  },
  "language_info": {
   "codemirror_mode": {
    "name": "ipython",
    "version": 3
   },
   "file_extension": ".py",
   "mimetype": "text/x-python",
   "name": "python",
   "nbconvert_exporter": "python",
   "pygments_lexer": "ipython3",
   "version": "3.10.1"
  }
 },
 "nbformat": 4,
 "nbformat_minor": 2
}
