{
 "cells": [
  {
   "cell_type": "code",
   "execution_count": null,
   "metadata": {},
   "outputs": [],
   "source": [
    "import sys\n",
    "sys.path.append('../src')\n",
    "\n",
    "from controller import Controller\n",
    "from classic_pid_controller import ClassicPidController\n",
    "from neural_pid_controller import NeuralPidController\n",
    "from plant import Plant\n",
    "from consys import ConSys\n",
    "\n",
    "import matplotlib.pyplot as plt"
   ]
  },
  {
   "cell_type": "code",
   "execution_count": null,
   "metadata": {},
   "outputs": [],
   "source": [
    "def plot_classic_pid(mse_list, params_matrix):\n",
    "    fig, axs = plt.subplots(2, 1, figsize=(10, 8))\n",
    "\n",
    "    # Plot MSE\n",
    "    axs[0].plot(mse_list)\n",
    "    axs[0].set_title('Mean Squared Error')\n",
    "    axs[0].set_xlabel('Epoch')\n",
    "    axs[0].set_ylabel('MSE')\n",
    "    axs[0].set_xticks(range(len(mse_list)))\n",
    "\n",
    "    # Plot parameters\n",
    "    param_labels = ['kp','ki','kd']\n",
    "    for i in range(params_matrix.shape[1]):\n",
    "        axs[1].plot(params_matrix[:, i], label=param_labels[i])\n",
    "    axs[1].set_title('Parameters')\n",
    "    axs[1].set_xlabel('Epoch')\n",
    "    axs[1].set_ylabel('Parameter Value')\n",
    "    axs[1].legend()\n",
    "    axs[1].set_xticks(range(params_matrix.shape[0]))\n",
    "\n",
    "    plt.tight_layout()\n",
    "    plt.show()"
   ]
  },
  {
   "cell_type": "markdown",
   "metadata": {},
   "source": [
    "## Bathtub"
   ]
  },
  {
   "cell_type": "markdown",
   "metadata": {},
   "source": [
    "### Classic PID controller"
   ]
  },
  {
   "cell_type": "code",
   "execution_count": null,
   "metadata": {},
   "outputs": [],
   "source": [
    "from bathtub import Bathtub\n",
    "\n",
    "### Bathtub params:\n",
    "A = 10.0      # cross-sectional area\n",
    "C = A/100   # cross-sectional-drain area\n",
    "H = 10.0      # initial height\n",
    "g = 9.8     # gravitational constant\n",
    "\n",
    "### ConSys params:\n",
    "no_epochs = 10\n",
    "timesteps_per_epoch = 100\n",
    "learning_rate = 0.05\n",
    "min_noise_value = -0.01\n",
    "max_noise_value = 0.01\n",
    "\n",
    "### Controller params:\n",
    "controller_params = [0.1, 0.3, 0.1]     # kp, ki, kd\n",
    "\n",
    "controller = ClassicPidController()\n",
    "plant = Bathtub(A, C, H, g)\n",
    "consys = ConSys(controller, plant, no_epochs, timesteps_per_epoch, learning_rate, min_noise_value, max_noise_value)\n",
    "mse_list, params_matrix = consys.simulate(controller_params)\n",
    "\n",
    "plot_classic_pid(mse_list, params_matrix)\n"
   ]
  },
  {
   "cell_type": "markdown",
   "metadata": {},
   "source": [
    "## Cournot"
   ]
  },
  {
   "cell_type": "markdown",
   "metadata": {},
   "source": [
    "### Classic PID controller"
   ]
  },
  {
   "cell_type": "code",
   "execution_count": null,
   "metadata": {},
   "outputs": [],
   "source": [
    "from cournot import CournotCompetition\n",
    "\n",
    "### CournoutCompetition params:\n",
    "T = 0.5     # Target profit per timestep\n",
    "c_m = 0.1   # Marginal cost\n",
    "q1 = 0.1    # initial quantity produced by 1\n",
    "q2 = 0.5   # initial quantty produced by 2\n",
    "p_max = 1.0   # maximum market price\n",
    "\n",
    "### ConSys params:\n",
    "no_epochs = 10\n",
    "timesteps_per_epoch = 100\n",
    "learning_rate = 0.005\n",
    "min_noise_value = -0.01\n",
    "max_noise_value = 0.01\n",
    "\n",
    "### Controller params:\n",
    "controller_params = [0.1, 0.3, 0.2]     # kp, ki, kd\n",
    "\n",
    "controller = ClassicPidController()\n",
    "plant = CournotCompetition(target_profit=T, marginal_unit_cost=c_m, own_quantity=q1, competitor_quantity=q2, maximum_price=p_max)\n",
    "consys = ConSys(controller, plant, no_epochs, timesteps_per_epoch, learning_rate, min_noise_value, max_noise_value)\n",
    "mse_list, params_matrix = consys.simulate(controller_params)\n",
    "\n",
    "plot_classic_pid(mse_list, params_matrix)\n"
   ]
  }
 ],
 "metadata": {
  "kernelspec": {
   "display_name": "venv",
   "language": "python",
   "name": "python3"
  },
  "language_info": {
   "codemirror_mode": {
    "name": "ipython",
    "version": 3
   },
   "file_extension": ".py",
   "mimetype": "text/x-python",
   "name": "python",
   "nbconvert_exporter": "python",
   "pygments_lexer": "ipython3",
   "version": "3.10.1"
  }
 },
 "nbformat": 4,
 "nbformat_minor": 2
}
